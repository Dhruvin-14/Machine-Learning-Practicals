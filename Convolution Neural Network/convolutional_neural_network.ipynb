{
 "cells": [
  {
   "cell_type": "markdown",
   "metadata": {
    "colab_type": "text",
    "id": "3DR-eO17geWu"
   },
   "source": [
    "# Convolutional Neural Network"
   ]
  },
  {
   "cell_type": "markdown",
   "metadata": {
    "colab_type": "text",
    "id": "EMefrVPCg-60"
   },
   "source": [
    "### Importing the libraries"
   ]
  },
  {
   "cell_type": "code",
   "execution_count": 1,
   "metadata": {
    "colab": {},
    "colab_type": "code",
    "id": "sCV30xyVhFbE"
   },
   "outputs": [],
   "source": [
    "import tensorflow as tf\n",
    "from keras.preprocessing.image import ImageDataGenerator"
   ]
  },
  {
   "cell_type": "code",
   "execution_count": 2,
   "metadata": {
    "colab": {},
    "colab_type": "code",
    "id": "FIleuCAjoFD8"
   },
   "outputs": [
    {
     "data": {
      "text/plain": [
       "'2.12.0'"
      ]
     },
     "execution_count": 2,
     "metadata": {},
     "output_type": "execute_result"
    }
   ],
   "source": [
    "tf.__version__"
   ]
  },
  {
   "cell_type": "markdown",
   "metadata": {
    "colab_type": "text",
    "id": "oxQxCBWyoGPE"
   },
   "source": [
    "## Part 1 - Data Preprocessing"
   ]
  },
  {
   "cell_type": "markdown",
   "metadata": {
    "colab_type": "text",
    "id": "MvE-heJNo3GG"
   },
   "source": [
    "### Preprocessing the Training set"
   ]
  },
  {
   "cell_type": "code",
   "execution_count": 3,
   "metadata": {
    "colab": {},
    "colab_type": "code",
    "id": "0koUcJMJpEBD"
   },
   "outputs": [
    {
     "name": "stdout",
     "output_type": "stream",
     "text": [
      "Found 3000 images belonging to 3 classes.\n"
     ]
    }
   ],
   "source": [
    "train_datagen = ImageDataGenerator(rescale = 1./255,\n",
    "                                   shear_range = 0.2,\n",
    "                                   zoom_range = 0.2,\n",
    "                                   horizontal_flip = True)\n",
    "training_set = train_datagen.flow_from_directory('C:\\\\Users\\\\dhruv\\\\Machine Learning Practicals\\\\Convolution Neural Network\\\\cats_dogs_cars\\\\data',\n",
    "                                                 target_size = (150, 150),\n",
    "                                                 batch_size = 32,\n",
    "                                                 class_mode = 'categorical')"
   ]
  },
  {
   "cell_type": "markdown",
   "metadata": {
    "colab_type": "text",
    "id": "mrCMmGw9pHys"
   },
   "source": [
    "### Preprocessing the Test set"
   ]
  },
  {
   "cell_type": "code",
   "execution_count": 4,
   "metadata": {
    "colab": {},
    "colab_type": "code",
    "id": "SH4WzfOhpKc3"
   },
   "outputs": [
    {
     "name": "stdout",
     "output_type": "stream",
     "text": [
      "Found 151 images belonging to 3 classes.\n"
     ]
    }
   ],
   "source": [
    "test_datagen = ImageDataGenerator(rescale = 1./255)\n",
    "test_set = test_datagen.flow_from_directory('C:\\\\Users\\\\dhruv\\\\Machine Learning Practicals\\\\Convolution Neural Network\\\\cats_dogs_cars\\\\test',\n",
    "                                            target_size = (150, 150),\n",
    "                                            batch_size = 32,\n",
    "                                            class_mode = 'categorical')"
   ]
  },
  {
   "cell_type": "markdown",
   "metadata": {
    "colab_type": "text",
    "id": "af8O4l90gk7B"
   },
   "source": [
    "## Part 2 - Building the CNN"
   ]
  },
  {
   "cell_type": "markdown",
   "metadata": {
    "colab_type": "text",
    "id": "ces1gXY2lmoX"
   },
   "source": [
    "### Initialising the CNN"
   ]
  },
  {
   "cell_type": "code",
   "execution_count": 5,
   "metadata": {
    "colab": {},
    "colab_type": "code",
    "id": "SAUt4UMPlhLS"
   },
   "outputs": [],
   "source": [
    "cnn = tf.keras.models.Sequential()"
   ]
  },
  {
   "cell_type": "markdown",
   "metadata": {
    "colab_type": "text",
    "id": "u5YJj_XMl5LF"
   },
   "source": [
    "### Step 1 - Convolution"
   ]
  },
  {
   "cell_type": "code",
   "execution_count": 6,
   "metadata": {
    "colab": {},
    "colab_type": "code",
    "id": "XPzPrMckl-hV"
   },
   "outputs": [],
   "source": [
    "cnn.add(tf.keras.layers.Conv2D(32, (3, 3), activation='relu', input_shape=(150,150, 3)))"
   ]
  },
  {
   "cell_type": "markdown",
   "metadata": {
    "colab_type": "text",
    "id": "tf87FpvxmNOJ"
   },
   "source": [
    "### Step 2 - Pooling"
   ]
  },
  {
   "cell_type": "code",
   "execution_count": 7,
   "metadata": {
    "colab": {},
    "colab_type": "code",
    "id": "ncpqPl69mOac"
   },
   "outputs": [],
   "source": [
    "cnn.add(tf.keras.layers.MaxPooling2D(pool_size=(2, 2)))"
   ]
  },
  {
   "cell_type": "markdown",
   "metadata": {
    "colab_type": "text",
    "id": "xaTOgD8rm4mU"
   },
   "source": [
    "### Adding a second convolutional layer"
   ]
  },
  {
   "cell_type": "code",
   "execution_count": 8,
   "metadata": {
    "colab": {},
    "colab_type": "code",
    "id": "i_-FZjn_m8gk"
   },
   "outputs": [],
   "source": [
    "cnn.add(tf.keras.layers.Conv2D(64, (3, 3), activation='relu'))\n",
    "cnn.add(tf.keras.layers.MaxPooling2D(pool_size=(2, 2)))"
   ]
  },
  {
   "cell_type": "markdown",
   "metadata": {
    "colab_type": "text",
    "id": "tmiEuvTunKfk"
   },
   "source": [
    "### Step 3 - Flattening"
   ]
  },
  {
   "cell_type": "code",
   "execution_count": 9,
   "metadata": {
    "colab": {},
    "colab_type": "code",
    "id": "6AZeOGCvnNZn"
   },
   "outputs": [],
   "source": [
    "cnn.add(tf.keras.layers.Flatten())"
   ]
  },
  {
   "cell_type": "markdown",
   "metadata": {
    "colab_type": "text",
    "id": "dAoSECOm203v"
   },
   "source": [
    "### Step 4 - Full Connection"
   ]
  },
  {
   "cell_type": "code",
   "execution_count": 10,
   "metadata": {
    "colab": {},
    "colab_type": "code",
    "id": "8GtmUlLd26Nq"
   },
   "outputs": [],
   "source": [
    "cnn.add(tf.keras.layers.Dense(96, activation='relu'))"
   ]
  },
  {
   "cell_type": "markdown",
   "metadata": {
    "colab_type": "text",
    "id": "yTldFvbX28Na"
   },
   "source": [
    "### Step 5 - Output Layer"
   ]
  },
  {
   "cell_type": "code",
   "execution_count": 11,
   "metadata": {
    "colab": {},
    "colab_type": "code",
    "id": "1p_Zj1Mc3Ko_"
   },
   "outputs": [],
   "source": [
    "cnn.add(tf.keras.layers.Dense(3, activation='softmax'))"
   ]
  },
  {
   "cell_type": "markdown",
   "metadata": {
    "colab_type": "text",
    "id": "D6XkI90snSDl"
   },
   "source": [
    "## Part 3 - Training the CNN"
   ]
  },
  {
   "cell_type": "markdown",
   "metadata": {
    "colab_type": "text",
    "id": "vfrFQACEnc6i"
   },
   "source": [
    "### Compiling the CNN"
   ]
  },
  {
   "cell_type": "code",
   "execution_count": 12,
   "metadata": {
    "colab": {},
    "colab_type": "code",
    "id": "NALksrNQpUlJ"
   },
   "outputs": [],
   "source": [
    "cnn.compile(optimizer = 'adam', loss = 'categorical_crossentropy', metrics = ['accuracy'])"
   ]
  },
  {
   "cell_type": "markdown",
   "metadata": {
    "colab_type": "text",
    "id": "ehS-v3MIpX2h"
   },
   "source": [
    "### Training the CNN on the Training set and evaluating it on the Test set"
   ]
  },
  {
   "cell_type": "code",
   "execution_count": 13,
   "metadata": {
    "colab": {},
    "colab_type": "code",
    "id": "XUj1W4PJptta"
   },
   "outputs": [
    {
     "name": "stdout",
     "output_type": "stream",
     "text": [
      "Epoch 1/25\n",
      "94/94 [==============================] - 43s 454ms/step - loss: 0.8353 - accuracy: 0.6003 - val_loss: 0.5506 - val_accuracy: 0.6887\n",
      "Epoch 2/25\n",
      "94/94 [==============================] - 38s 404ms/step - loss: 0.5867 - accuracy: 0.7183 - val_loss: 0.4970 - val_accuracy: 0.7483\n",
      "Epoch 3/25\n",
      "94/94 [==============================] - 46s 485ms/step - loss: 0.5425 - accuracy: 0.7497 - val_loss: 0.5424 - val_accuracy: 0.7152\n",
      "Epoch 4/25\n",
      "94/94 [==============================] - 40s 426ms/step - loss: 0.4942 - accuracy: 0.7730 - val_loss: 0.5084 - val_accuracy: 0.7616\n",
      "Epoch 5/25\n",
      "94/94 [==============================] - 38s 403ms/step - loss: 0.4830 - accuracy: 0.7787 - val_loss: 0.4517 - val_accuracy: 0.7550\n",
      "Epoch 6/25\n",
      "94/94 [==============================] - 38s 403ms/step - loss: 0.4513 - accuracy: 0.7917 - val_loss: 0.4412 - val_accuracy: 0.8013\n",
      "Epoch 7/25\n",
      "94/94 [==============================] - 38s 402ms/step - loss: 0.4369 - accuracy: 0.8017 - val_loss: 0.4315 - val_accuracy: 0.7682\n",
      "Epoch 8/25\n",
      "94/94 [==============================] - 39s 414ms/step - loss: 0.4013 - accuracy: 0.8163 - val_loss: 0.4639 - val_accuracy: 0.7550\n",
      "Epoch 9/25\n",
      "94/94 [==============================] - 38s 404ms/step - loss: 0.3866 - accuracy: 0.8233 - val_loss: 0.4524 - val_accuracy: 0.7748\n",
      "Epoch 10/25\n",
      "94/94 [==============================] - 38s 408ms/step - loss: 0.3583 - accuracy: 0.8403 - val_loss: 0.5541 - val_accuracy: 0.7417\n",
      "Epoch 11/25\n",
      "94/94 [==============================] - 38s 399ms/step - loss: 0.3541 - accuracy: 0.8433 - val_loss: 0.4360 - val_accuracy: 0.7748\n",
      "Epoch 12/25\n",
      "94/94 [==============================] - 35s 373ms/step - loss: 0.3362 - accuracy: 0.8560 - val_loss: 0.5479 - val_accuracy: 0.7550\n",
      "Epoch 13/25\n",
      "94/94 [==============================] - 34s 365ms/step - loss: 0.3591 - accuracy: 0.8437 - val_loss: 0.4354 - val_accuracy: 0.8146\n",
      "Epoch 14/25\n",
      "94/94 [==============================] - 37s 388ms/step - loss: 0.2987 - accuracy: 0.8763 - val_loss: 0.4157 - val_accuracy: 0.8411\n",
      "Epoch 15/25\n",
      "94/94 [==============================] - 37s 391ms/step - loss: 0.2859 - accuracy: 0.8827 - val_loss: 0.3931 - val_accuracy: 0.7881\n",
      "Epoch 16/25\n",
      "94/94 [==============================] - 36s 377ms/step - loss: 0.2725 - accuracy: 0.8877 - val_loss: 0.4864 - val_accuracy: 0.8013\n",
      "Epoch 17/25\n",
      "94/94 [==============================] - 34s 365ms/step - loss: 0.2521 - accuracy: 0.9020 - val_loss: 0.4659 - val_accuracy: 0.7947\n",
      "Epoch 18/25\n",
      "94/94 [==============================] - 34s 362ms/step - loss: 0.2465 - accuracy: 0.9003 - val_loss: 0.5085 - val_accuracy: 0.7947\n",
      "Epoch 19/25\n",
      "94/94 [==============================] - 34s 363ms/step - loss: 0.2146 - accuracy: 0.9163 - val_loss: 0.5076 - val_accuracy: 0.8344\n",
      "Epoch 20/25\n",
      "94/94 [==============================] - 35s 376ms/step - loss: 0.2224 - accuracy: 0.9160 - val_loss: 0.4867 - val_accuracy: 0.8146\n",
      "Epoch 21/25\n",
      "94/94 [==============================] - 34s 365ms/step - loss: 0.2068 - accuracy: 0.9243 - val_loss: 0.4976 - val_accuracy: 0.8344\n",
      "Epoch 22/25\n",
      "94/94 [==============================] - 37s 388ms/step - loss: 0.1923 - accuracy: 0.9207 - val_loss: 0.5827 - val_accuracy: 0.8079\n",
      "Epoch 23/25\n",
      "94/94 [==============================] - 36s 382ms/step - loss: 0.1990 - accuracy: 0.9220 - val_loss: 0.5508 - val_accuracy: 0.8344\n",
      "Epoch 24/25\n",
      "94/94 [==============================] - 39s 410ms/step - loss: 0.1883 - accuracy: 0.9247 - val_loss: 0.5625 - val_accuracy: 0.8344\n",
      "Epoch 25/25\n",
      "94/94 [==============================] - 35s 375ms/step - loss: 0.1703 - accuracy: 0.9350 - val_loss: 0.5471 - val_accuracy: 0.8278\n"
     ]
    },
    {
     "data": {
      "text/plain": [
       "<keras.callbacks.History at 0x2035729a580>"
      ]
     },
     "execution_count": 13,
     "metadata": {},
     "output_type": "execute_result"
    }
   ],
   "source": [
    "cnn.fit(x = training_set, validation_data = test_set, epochs = 25)"
   ]
  },
  {
   "cell_type": "markdown",
   "metadata": {
    "colab_type": "text",
    "id": "U3PZasO0006Z"
   },
   "source": [
    "## Part 4 - Making a single prediction"
   ]
  },
  {
   "cell_type": "code",
   "execution_count": 14,
   "metadata": {
    "colab": {},
    "colab_type": "code",
    "id": "gsSiWEJY1BPB"
   },
   "outputs": [
    {
     "name": "stdout",
     "output_type": "stream",
     "text": [
      "1/1 [==============================] - 0s 89ms/step\n"
     ]
    }
   ],
   "source": [
    "import numpy as np\n",
    "from keras.preprocessing import image\n",
    "test_image = tf.keras.utils.load_img('C:\\\\Users\\\\dhruv\\\\Machine Learning Practicals\\\\Convolution Neural Network\\\\cats_dogs_cars\\\\test\\\\dog\\\\june.jpg', target_size = (150, 150))\n",
    "test_image = tf.keras.utils.img_to_array(test_image)\n",
    "test_image = np.expand_dims(test_image, axis = 0)\n",
    "result = cnn.predict(test_image)\n",
    "training_set.class_indices\n",
    "\n",
    "if result[0][0] == 1:\n",
    "    prediction = 'car'\n",
    "elif result[0][1] == 1:\n",
    "    prediction = 'cat'\n",
    "else:\n",
    "    prediction = 'dog'"
   ]
  },
  {
   "cell_type": "code",
   "execution_count": 15,
   "metadata": {
    "colab": {},
    "colab_type": "code",
    "id": "ED9KB3I54c1i"
   },
   "outputs": [
    {
     "name": "stdout",
     "output_type": "stream",
     "text": [
      "dog\n"
     ]
    }
   ],
   "source": [
    "print(prediction)"
   ]
  }
 ],
 "metadata": {
  "colab": {
   "collapsed_sections": [],
   "name": "convolutional_neural_network.ipynb",
   "provenance": [],
   "toc_visible": true
  },
  "kernelspec": {
   "display_name": "Python 3 (ipykernel)",
   "language": "python",
   "name": "python3"
  },
  "language_info": {
   "codemirror_mode": {
    "name": "ipython",
    "version": 3
   },
   "file_extension": ".py",
   "mimetype": "text/x-python",
   "name": "python",
   "nbconvert_exporter": "python",
   "pygments_lexer": "ipython3",
   "version": "3.9.13"
  }
 },
 "nbformat": 4,
 "nbformat_minor": 1
}
