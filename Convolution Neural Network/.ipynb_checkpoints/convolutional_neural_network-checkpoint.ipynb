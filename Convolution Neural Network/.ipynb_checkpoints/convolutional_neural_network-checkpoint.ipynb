{
 "cells": [
  {
   "cell_type": "markdown",
   "metadata": {
    "colab_type": "text",
    "id": "3DR-eO17geWu"
   },
   "source": [
    "# Convolutional Neural Network"
   ]
  },
  {
   "cell_type": "markdown",
   "metadata": {
    "colab_type": "text",
    "id": "EMefrVPCg-60"
   },
   "source": [
    "### Importing the libraries"
   ]
  },
  {
   "cell_type": "code",
   "execution_count": 21,
   "metadata": {
    "colab": {},
    "colab_type": "code",
    "id": "sCV30xyVhFbE"
   },
   "outputs": [],
   "source": [
    "import tensorflow as tf\n",
    "from keras.preprocessing.image import ImageDataGenerator"
   ]
  },
  {
   "cell_type": "code",
   "execution_count": 22,
   "metadata": {
    "colab": {},
    "colab_type": "code",
    "id": "FIleuCAjoFD8"
   },
   "outputs": [
    {
     "data": {
      "text/plain": [
       "'2.10.0'"
      ]
     },
     "execution_count": 22,
     "metadata": {},
     "output_type": "execute_result"
    }
   ],
   "source": [
    "tf.__version__"
   ]
  },
  {
   "cell_type": "markdown",
   "metadata": {
    "colab_type": "text",
    "id": "oxQxCBWyoGPE"
   },
   "source": [
    "## Part 1 - Data Preprocessing"
   ]
  },
  {
   "cell_type": "markdown",
   "metadata": {
    "colab_type": "text",
    "id": "MvE-heJNo3GG"
   },
   "source": [
    "### Preprocessing the Training set"
   ]
  },
  {
   "cell_type": "code",
   "execution_count": 23,
   "metadata": {
    "colab": {},
    "colab_type": "code",
    "id": "0koUcJMJpEBD"
   },
   "outputs": [
    {
     "name": "stdout",
     "output_type": "stream",
     "text": [
      "Found 3000 images belonging to 3 classes.\n"
     ]
    }
   ],
   "source": [
    "train_datagen = ImageDataGenerator(rescale = 1./255,\n",
    "                                   shear_range = 0.2,\n",
    "                                   zoom_range = 0.2,\n",
    "                                   horizontal_flip = True)\n",
    "training_set = train_datagen.flow_from_directory('C:\\\\Users\\\\dhruv\\\\Machine Learning Practicals\\\\Convolution Neural Network\\\\cats_dogs_cars\\\\data',\n",
    "                                                 target_size = (150, 150),\n",
    "                                                 batch_size = 32,\n",
    "                                                 class_mode = 'categorical')"
   ]
  },
  {
   "cell_type": "markdown",
   "metadata": {
    "colab_type": "text",
    "id": "mrCMmGw9pHys"
   },
   "source": [
    "### Preprocessing the Test set"
   ]
  },
  {
   "cell_type": "code",
   "execution_count": 26,
   "metadata": {
    "colab": {},
    "colab_type": "code",
    "id": "SH4WzfOhpKc3"
   },
   "outputs": [
    {
     "name": "stdout",
     "output_type": "stream",
     "text": [
      "Found 150 images belonging to 3 classes.\n"
     ]
    }
   ],
   "source": [
    "test_datagen = ImageDataGenerator(rescale = 1./255)\n",
    "test_set = test_datagen.flow_from_directory('C:\\\\Users\\\\dhruv\\\\Machine Learning Practicals\\\\Convolution Neural Network\\\\cats_dogs_cars\\\\test',\n",
    "                                            target_size = (150, 150),\n",
    "                                            batch_size = 32,\n",
    "                                            class_mode = 'categorical')"
   ]
  },
  {
   "cell_type": "markdown",
   "metadata": {
    "colab_type": "text",
    "id": "af8O4l90gk7B"
   },
   "source": [
    "## Part 2 - Building the CNN"
   ]
  },
  {
   "cell_type": "markdown",
   "metadata": {
    "colab_type": "text",
    "id": "ces1gXY2lmoX"
   },
   "source": [
    "### Initialising the CNN"
   ]
  },
  {
   "cell_type": "code",
   "execution_count": 27,
   "metadata": {
    "colab": {},
    "colab_type": "code",
    "id": "SAUt4UMPlhLS"
   },
   "outputs": [],
   "source": [
    "cnn = tf.keras.models.Sequential()"
   ]
  },
  {
   "cell_type": "markdown",
   "metadata": {
    "colab_type": "text",
    "id": "u5YJj_XMl5LF"
   },
   "source": [
    "### Step 1 - Convolution"
   ]
  },
  {
   "cell_type": "code",
   "execution_count": 28,
   "metadata": {
    "colab": {},
    "colab_type": "code",
    "id": "XPzPrMckl-hV"
   },
   "outputs": [],
   "source": [
    "cnn.add(tf.keras.layers.Conv2D(32, (3, 3), activation='relu', input_shape=(150,150, 3)))"
   ]
  },
  {
   "cell_type": "markdown",
   "metadata": {
    "colab_type": "text",
    "id": "tf87FpvxmNOJ"
   },
   "source": [
    "### Step 2 - Pooling"
   ]
  },
  {
   "cell_type": "code",
   "execution_count": 29,
   "metadata": {
    "colab": {},
    "colab_type": "code",
    "id": "ncpqPl69mOac"
   },
   "outputs": [],
   "source": [
    "cnn.add(tf.keras.layers.MaxPooling2D(pool_size=(2, 2)))"
   ]
  },
  {
   "cell_type": "markdown",
   "metadata": {
    "colab_type": "text",
    "id": "xaTOgD8rm4mU"
   },
   "source": [
    "### Adding a second convolutional layer"
   ]
  },
  {
   "cell_type": "code",
   "execution_count": 30,
   "metadata": {
    "colab": {},
    "colab_type": "code",
    "id": "i_-FZjn_m8gk"
   },
   "outputs": [],
   "source": [
    "cnn.add(tf.keras.layers.Conv2D(64, (3, 3), activation='relu'))\n",
    "cnn.add(tf.keras.layers.MaxPooling2D(pool_size=(2, 2)))"
   ]
  },
  {
   "cell_type": "markdown",
   "metadata": {
    "colab_type": "text",
    "id": "tmiEuvTunKfk"
   },
   "source": [
    "### Step 3 - Flattening"
   ]
  },
  {
   "cell_type": "code",
   "execution_count": 31,
   "metadata": {
    "colab": {},
    "colab_type": "code",
    "id": "6AZeOGCvnNZn"
   },
   "outputs": [],
   "source": [
    "cnn.add(tf.keras.layers.Flatten())"
   ]
  },
  {
   "cell_type": "markdown",
   "metadata": {
    "colab_type": "text",
    "id": "dAoSECOm203v"
   },
   "source": [
    "### Step 4 - Full Connection"
   ]
  },
  {
   "cell_type": "code",
   "execution_count": 32,
   "metadata": {
    "colab": {},
    "colab_type": "code",
    "id": "8GtmUlLd26Nq"
   },
   "outputs": [],
   "source": [
    "cnn.add(tf.keras.layers.Dense(96, activation='relu'))"
   ]
  },
  {
   "cell_type": "markdown",
   "metadata": {
    "colab_type": "text",
    "id": "yTldFvbX28Na"
   },
   "source": [
    "### Step 5 - Output Layer"
   ]
  },
  {
   "cell_type": "code",
   "execution_count": 33,
   "metadata": {
    "colab": {},
    "colab_type": "code",
    "id": "1p_Zj1Mc3Ko_"
   },
   "outputs": [],
   "source": [
    "cnn.add(tf.keras.layers.Dense(3, activation='softmax'))"
   ]
  },
  {
   "cell_type": "markdown",
   "metadata": {
    "colab_type": "text",
    "id": "D6XkI90snSDl"
   },
   "source": [
    "## Part 3 - Training the CNN"
   ]
  },
  {
   "cell_type": "markdown",
   "metadata": {
    "colab_type": "text",
    "id": "vfrFQACEnc6i"
   },
   "source": [
    "### Compiling the CNN"
   ]
  },
  {
   "cell_type": "code",
   "execution_count": 34,
   "metadata": {
    "colab": {},
    "colab_type": "code",
    "id": "NALksrNQpUlJ"
   },
   "outputs": [],
   "source": [
    "cnn.compile(optimizer = 'adam', loss = 'categorical_crossentropy', metrics = ['accuracy'])"
   ]
  },
  {
   "cell_type": "markdown",
   "metadata": {
    "colab_type": "text",
    "id": "ehS-v3MIpX2h"
   },
   "source": [
    "### Training the CNN on the Training set and evaluating it on the Test set"
   ]
  },
  {
   "cell_type": "code",
   "execution_count": 35,
   "metadata": {
    "colab": {},
    "colab_type": "code",
    "id": "XUj1W4PJptta"
   },
   "outputs": [
    {
     "name": "stdout",
     "output_type": "stream",
     "text": [
      "Epoch 1/25\n",
      "94/94 [==============================] - 33s 352ms/step - loss: 1.0417 - accuracy: 0.5580 - val_loss: 0.6194 - val_accuracy: 0.6333\n",
      "Epoch 2/25\n",
      "94/94 [==============================] - 29s 310ms/step - loss: 0.6486 - accuracy: 0.6757 - val_loss: 0.5273 - val_accuracy: 0.7267\n",
      "Epoch 3/25\n",
      "94/94 [==============================] - 31s 334ms/step - loss: 0.5766 - accuracy: 0.7060 - val_loss: 0.5230 - val_accuracy: 0.6933\n",
      "Epoch 4/25\n",
      "94/94 [==============================] - 30s 321ms/step - loss: 0.5324 - accuracy: 0.7360 - val_loss: 0.5069 - val_accuracy: 0.7333\n",
      "Epoch 5/25\n",
      "94/94 [==============================] - 31s 328ms/step - loss: 0.4877 - accuracy: 0.7800 - val_loss: 0.4910 - val_accuracy: 0.7467\n",
      "Epoch 6/25\n",
      "94/94 [==============================] - 31s 327ms/step - loss: 0.4606 - accuracy: 0.7827 - val_loss: 0.4661 - val_accuracy: 0.7200\n",
      "Epoch 7/25\n",
      "94/94 [==============================] - 30s 315ms/step - loss: 0.4373 - accuracy: 0.8007 - val_loss: 0.4845 - val_accuracy: 0.7267\n",
      "Epoch 8/25\n",
      "94/94 [==============================] - 30s 320ms/step - loss: 0.4020 - accuracy: 0.8257 - val_loss: 0.4372 - val_accuracy: 0.7733\n",
      "Epoch 9/25\n",
      "94/94 [==============================] - 29s 307ms/step - loss: 0.3596 - accuracy: 0.8470 - val_loss: 0.4724 - val_accuracy: 0.7467\n",
      "Epoch 10/25\n",
      "94/94 [==============================] - 29s 305ms/step - loss: 0.3540 - accuracy: 0.8427 - val_loss: 0.4662 - val_accuracy: 0.7667\n",
      "Epoch 11/25\n",
      "94/94 [==============================] - 29s 306ms/step - loss: 0.3314 - accuracy: 0.8560 - val_loss: 0.4889 - val_accuracy: 0.7600\n",
      "Epoch 12/25\n",
      "94/94 [==============================] - 29s 307ms/step - loss: 0.3171 - accuracy: 0.8567 - val_loss: 0.5256 - val_accuracy: 0.7733\n",
      "Epoch 13/25\n",
      "94/94 [==============================] - 29s 304ms/step - loss: 0.2886 - accuracy: 0.8793 - val_loss: 0.4533 - val_accuracy: 0.8000\n",
      "Epoch 14/25\n",
      "94/94 [==============================] - 29s 307ms/step - loss: 0.2806 - accuracy: 0.8763 - val_loss: 0.4890 - val_accuracy: 0.7867\n",
      "Epoch 15/25\n",
      "94/94 [==============================] - 29s 308ms/step - loss: 0.2849 - accuracy: 0.8760 - val_loss: 0.5076 - val_accuracy: 0.7867\n",
      "Epoch 16/25\n",
      "94/94 [==============================] - 30s 318ms/step - loss: 0.2325 - accuracy: 0.9013 - val_loss: 0.6564 - val_accuracy: 0.7467\n",
      "Epoch 17/25\n",
      "94/94 [==============================] - 30s 314ms/step - loss: 0.2369 - accuracy: 0.8990 - val_loss: 0.5754 - val_accuracy: 0.8000\n",
      "Epoch 18/25\n",
      "94/94 [==============================] - 29s 313ms/step - loss: 0.2133 - accuracy: 0.9130 - val_loss: 0.6111 - val_accuracy: 0.7600\n",
      "Epoch 19/25\n",
      "94/94 [==============================] - 29s 306ms/step - loss: 0.2118 - accuracy: 0.9137 - val_loss: 0.8060 - val_accuracy: 0.7267\n",
      "Epoch 20/25\n",
      "94/94 [==============================] - 29s 307ms/step - loss: 0.2191 - accuracy: 0.9040 - val_loss: 0.6944 - val_accuracy: 0.7533\n",
      "Epoch 21/25\n",
      "94/94 [==============================] - 29s 305ms/step - loss: 0.1878 - accuracy: 0.9257 - val_loss: 0.5501 - val_accuracy: 0.7867\n",
      "Epoch 22/25\n",
      "94/94 [==============================] - 29s 306ms/step - loss: 0.1701 - accuracy: 0.9307 - val_loss: 0.6119 - val_accuracy: 0.7800\n",
      "Epoch 23/25\n",
      "94/94 [==============================] - 29s 306ms/step - loss: 0.1800 - accuracy: 0.9333 - val_loss: 0.5713 - val_accuracy: 0.7667\n",
      "Epoch 24/25\n",
      "94/94 [==============================] - 29s 306ms/step - loss: 0.1533 - accuracy: 0.9410 - val_loss: 0.6844 - val_accuracy: 0.7600\n",
      "Epoch 25/25\n",
      "94/94 [==============================] - 29s 306ms/step - loss: 0.1450 - accuracy: 0.9447 - val_loss: 0.6017 - val_accuracy: 0.8000\n"
     ]
    },
    {
     "data": {
      "text/plain": [
       "<keras.callbacks.History at 0x1e094bd0fd0>"
      ]
     },
     "execution_count": 35,
     "metadata": {},
     "output_type": "execute_result"
    }
   ],
   "source": [
    "cnn.fit(x = training_set, validation_data = test_set, epochs = 25)"
   ]
  },
  {
   "cell_type": "markdown",
   "metadata": {
    "colab_type": "text",
    "id": "U3PZasO0006Z"
   },
   "source": [
    "## Part 4 - Making a single prediction"
   ]
  },
  {
   "cell_type": "code",
   "execution_count": 81,
   "metadata": {
    "colab": {},
    "colab_type": "code",
    "id": "gsSiWEJY1BPB"
   },
   "outputs": [
    {
     "name": "stdout",
     "output_type": "stream",
     "text": [
      "1/1 [==============================] - 0s 16ms/step\n"
     ]
    }
   ],
   "source": [
    "import numpy as np\n",
    "from keras.preprocessing import image\n",
    "test_image = tf.keras.utils.load_img('C:\\\\Users\\\\dhruv\\\\Machine Learning Practicals\\\\Convolution Neural Network\\\\cats_dogs_cars\\\\test\\\\dog\\\\june.jpg', target_size = (150, 150))\n",
    "test_image = tf.keras.utils.img_to_array(test_image)\n",
    "test_image = np.expand_dims(test_image, axis = 0)\n",
    "result = cnn.predict(test_image)\n",
    "training_set.class_indices\n",
    "\n",
    "if result[0][0] == 1:\n",
    "    prediction = 'car'\n",
    "elif result[0][1] == 1:\n",
    "    prediction = 'cat'\n",
    "else:\n",
    "    prediction = 'dog'"
   ]
  },
  {
   "cell_type": "code",
   "execution_count": 79,
   "metadata": {
    "colab": {},
    "colab_type": "code",
    "id": "ED9KB3I54c1i"
   },
   "outputs": [
    {
     "name": "stdout",
     "output_type": "stream",
     "text": [
      "dog\n"
     ]
    }
   ],
   "source": [
    "print(prediction)"
   ]
  }
 ],
 "metadata": {
  "colab": {
   "collapsed_sections": [],
   "name": "convolutional_neural_network.ipynb",
   "provenance": [],
   "toc_visible": true
  },
  "kernelspec": {
   "display_name": "Python 3 (ipykernel)",
   "language": "python",
   "name": "python3"
  },
  "language_info": {
   "codemirror_mode": {
    "name": "ipython",
    "version": 3
   },
   "file_extension": ".py",
   "mimetype": "text/x-python",
   "name": "python",
   "nbconvert_exporter": "python",
   "pygments_lexer": "ipython3",
   "version": "3.10.7"
  }
 },
 "nbformat": 4,
 "nbformat_minor": 1
}
